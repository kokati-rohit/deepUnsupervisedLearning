{
  "cells": [
    {
      "cell_type": "code",
      "execution_count": null,
      "metadata": {
        "id": "QcTUc4HfBOTQ"
      },
      "outputs": [],
      "source": [
        "import torch\n",
        "import torch.nn as nn\n",
        "import torch.optim as optim\n",
        "from torchvision import datasets, transforms\n",
        "from torch.utils.data import DataLoader\n",
        "from sklearn.mixture import GaussianMixture\n",
        "import numpy as np"
      ]
    },
    {
      "cell_type": "code",
      "source": [
        "import os\n",
        "import torchvision.utils as vutils\n",
        "\n",
        "# Create directories for saving images\n",
        "real_image_dir = './data/real_images'\n",
        "fake_image_dir = './data/fake_images'\n",
        "\n",
        "os.makedirs(real_image_dir, exist_ok=True)\n",
        "os.makedirs(fake_image_dir, exist_ok=True)"
      ],
      "metadata": {
        "id": "adnELf5WTMYK"
      },
      "execution_count": null,
      "outputs": []
    },
    {
      "cell_type": "code",
      "execution_count": null,
      "metadata": {
        "id": "l52cUP9cBVxQ"
      },
      "outputs": [],
      "source": [
        "transform = transforms.Compose([\n",
        "    transforms.Resize(64),  # Resize to 64x64 to match generator output size\n",
        "    transforms.ToTensor(),\n",
        "    transforms.Normalize((0.5,), (0.5,))\n",
        "])"
      ]
    },
    {
      "cell_type": "code",
      "execution_count": null,
      "metadata": {
        "id": "SHPQlGaCEj1Z"
      },
      "outputs": [],
      "source": [
        "device = torch.device('cuda' if torch.cuda.is_available() else 'cpu')"
      ]
    },
    {
      "cell_type": "code",
      "execution_count": null,
      "metadata": {
        "id": "TvgSY4s6Bb5P"
      },
      "outputs": [],
      "source": [
        "from torchvision.datasets import FashionMNIST\n",
        "dataset  = FashionMNIST(root='./data', train=True, download=True, transform=transform)\n",
        "subset_indices = torch.randperm(len(dataset))[:5000]\n",
        "sub_dataset = Subset(dataset, subset_indices)\n",
        "\n",
        "dataloader = DataLoader(sub_dataset, batch_size=128, shuffle=True)\n",
        "\n"
      ]
    },
    {
      "cell_type": "code",
      "execution_count": null,
      "metadata": {
        "id": "cpBAj9KkBece"
      },
      "outputs": [],
      "source": [
        "class Generator(nn.Module):\n",
        "    def __init__(self):\n",
        "        super(Generator, self).__init__()\n",
        "        self.main = nn.Sequential(\n",
        "            nn.ConvTranspose2d(100, 512, 4, 1, 0, bias=False),\n",
        "            nn.BatchNorm2d(512),\n",
        "            nn.ReLU(True),\n",
        "            nn.ConvTranspose2d(512, 256, 4, 2, 1, bias=False),\n",
        "            nn.BatchNorm2d(256),\n",
        "            nn.ReLU(True),\n",
        "            nn.ConvTranspose2d(256, 128, 4, 2, 1, bias=False),\n",
        "            nn.BatchNorm2d(128),\n",
        "            nn.ReLU(True),\n",
        "            nn.ConvTranspose2d(128, 64, 4, 2, 1, bias=False),\n",
        "            nn.BatchNorm2d(64),\n",
        "            nn.ReLU(True),\n",
        "            nn.ConvTranspose2d(64, 1, 4, 2, 1, bias=False),  # Output channel is 1 for grayscale\n",
        "            nn.Tanh()  # Tanh activation to output values between -1 and 1\n",
        "        )\n",
        "\n",
        "    def forward(self, input):\n",
        "        return self.main(input)"
      ]
    },
    {
      "cell_type": "code",
      "execution_count": null,
      "metadata": {
        "id": "OT72FREyEYY3"
      },
      "outputs": [],
      "source": [
        "class Discriminator(nn.Module):\n",
        "    def __init__(self):\n",
        "        super(Discriminator, self).__init__()\n",
        "        self.main = nn.Sequential(\n",
        "            nn.Conv2d(1, 64, 3, 1, 1),  # Input size: (64 x 64), Output size: (64 x 64)\n",
        "            nn.LeakyReLU(0.2, inplace=True),\n",
        "            nn.Conv2d(64, 128, 3, 2, 1),  # Input size: (64 x 64), Output size: (32 x 32)\n",
        "            nn.BatchNorm2d(128),\n",
        "            nn.LeakyReLU(0.2, inplace=True),\n",
        "            nn.Conv2d(128, 256, 3, 2, 1),  # Input size: (32 x 32), Output size: (16 x 16)\n",
        "            nn.BatchNorm2d(256),\n",
        "            nn.LeakyReLU(0.2, inplace=True),\n",
        "            nn.Conv2d(256, 512, 3, 2, 1),  # Input size: (16 x 16), Output size: (8 x 8)\n",
        "            nn.BatchNorm2d(512),\n",
        "            nn.LeakyReLU(0.2, inplace=True),\n",
        "            nn.Conv2d(512, 1, 4, 1, 0),  # Input size: (8 x 8), Output size: (5 x 5)\n",
        "            nn.Sigmoid()\n",
        "        )\n",
        "\n",
        "    def forward(self, input):\n",
        "        return self.main(input)\n",
        "\n",
        "\n",
        "\n",
        "\n",
        "netG = Generator().to(device)\n",
        "netD = Discriminator().to(device)\n",
        "\n",
        "\n",
        "\n",
        "criterion = nn.BCELoss()\n",
        "optimizerG = optim.Adam(netG.parameters(), lr=0.0002, betas=(0.5, 0.999))\n",
        "optimizerD = optim.Adam(netD.parameters(), lr=0.0002, betas=(0.5, 0.999))"
      ]
    },
    {
      "cell_type": "code",
      "execution_count": null,
      "metadata": {
        "colab": {
          "base_uri": "https://localhost:8080/"
        },
        "id": "eaX4Sgr5y6H4",
        "outputId": "732e6561-2b93-4965-d5c1-21711bd767b7"
      },
      "outputs": [
        {
          "metadata": {
            "tags": null
          },
          "name": "stdout",
          "output_type": "stream",
          "text": [
            "[0/30][0/40]\tLoss_D: 1.3488\tLoss_G: 1.2042\tD(x): 0.5796\tD(G(z)): 0.5357 / 0.3148\n"
          ]
        }
      ],
      "source": [
        "for epoch in range(num_epochs):\n",
        "    for i, data in enumerate(dataloader, 0):\n",
        "        # Train discriminator with real data\n",
        "        netD.zero_grad()\n",
        "        real_images, _ = data\n",
        "        real_images = real_images.to(device)\n",
        "        batch_size = real_images.size(0)\n",
        "        label = torch.full((batch_size,), 1, device=device)\n",
        "        output = netD(real_images).view(-1)\n",
        "        errD_real = criterion(output, label.repeat(25).float())\n",
        "        errD_real.backward()\n",
        "        D_x = output.mean().item()\n",
        "\n",
        "        # Train discriminator with fake data\n",
        "        noise = torch.randn(batch_size, latent_size, 1, 1, device=device)\n",
        "        fake_images = netG(noise)\n",
        "        label.fill_(0)\n",
        "        output = netD(fake_images.detach()).view(-1)\n",
        "        errD_fake = criterion(output, label.repeat(25).float())\n",
        "        errD_fake.backward()\n",
        "        D_G_z1 = output.mean().item()\n",
        "        errD = errD_real + errD_fake\n",
        "        optimizerD.step()\n",
        "\n",
        "        # Train generator\n",
        "        netG.zero_grad()\n",
        "        label.fill_(1)  # Fake labels are real for generator cost\n",
        "        output = netD(fake_images).view(-1)\n",
        "        errG = criterion(output, label.repeat(25).float())\n",
        "        errG.backward()\n",
        "        D_G_z2 = output.mean().item()\n",
        "        optimizerG.step()\n",
        "\n",
        "        # Print training stats\n",
        "        if i % 100 == 0:\n",
        "            print('[%d/%d][%d/%d]\\tLoss_D: %.4f\\tLoss_G: %.4f\\tD(x): %.4f\\tD(G(z)): %.4f / %.4f'\n",
        "                  % (epoch, num_epochs, i, len(dataloader),\n",
        "                     errD.item(), errG.item(), D_x, D_G_z1, D_G_z2))\n",
        "\n",
        "    # Save generated images for every epoch\n",
        "    if epoch == 0:\n",
        "        torchvision.utils.save_image(real_images, './data/real_images.png', normalize=True)\n",
        "    fake = netG(noise)\n",
        "    torchvision.utils.save_image(fake.detach(), './data/fake_images_epoch_%03d.png' % epoch, normalize=True)"
      ]
    },
    {
      "cell_type": "code",
      "execution_count": null,
      "metadata": {
        "id": "BKHPUWgEElIz"
      },
      "outputs": [],
      "source": [
        "for epoch in range(10):\n",
        "    for i, data in enumerate(dataloader, 0):\n",
        "        # Train discriminator with real data\n",
        "        latent_size=100\n",
        "        netD.zero_grad()\n",
        "        real_images, _ = data\n",
        "        real_images = real_images.to(device)\n",
        "        batch_size = real_images.size(0)\n",
        "        label = torch.full((batch_size,), 1, device=device)\n",
        "        output = netD(real_images).view(-1)\n",
        "        errD_real = criterion(output, label.repeat(25).float())\n",
        "        errD_real.backward()\n",
        "        D_x = output.mean().item()\n",
        "\n",
        "        # Train discriminator with fake data\n",
        "        noise = torch.randn(batch_size, latent_size, 1, 1, device=device)\n",
        "        fake_images = netG(noise)\n",
        "        label.fill_(0)\n",
        "        output = netD(fake_images.detach()).view(-1)\n",
        "        errD_fake = criterion(output, label.repeat(25).float())\n",
        "        errD_fake.backward()\n",
        "        D_G_z1 = output.mean().item()\n",
        "        errD = errD_real + errD_fake\n",
        "        optimizerD.step()\n",
        "\n",
        "        # Train generator\n",
        "        netG.zero_grad()\n",
        "        label.fill_(1)  # Fake labels are real for generator cost\n",
        "        output = netD(fake_images).view(-1)\n",
        "        errG = criterion(output, label.repeat(25).float())\n",
        "        errG.backward()\n",
        "        D_G_z2 = output.mean().item()\n",
        "        optimizerG.step()\n",
        "\n",
        "        # Print training stats\n",
        "        if i % 100 == 0:\n",
        "            print('[%d/%d][%d/%d]\\tLoss_D: %.4f\\tLoss_G: %.4f\\tD(x): %.4f\\tD(G(z)): %.4f / %.4f'\n",
        "                  % (epoch, 10, i, len(dataloader),\n",
        "                     errD.item(), errG.item(), D_x, D_G_z1, D_G_z2))\n",
        "\n",
        "    # Save generated images for every epoch\n",
        "    if epoch == 0:\n",
        "        torchvision.utils.save_image(real_images, './data/real_images.png', normalize=True)\n",
        "    fake = netG(fixed_noise)\n",
        "    torchvision.utils.save_image(fake.detach(), './data/fake_images_epoch_%03d.png' % epoch, normalize=True)"
      ]
    },
    {
      "cell_type": "code",
      "execution_count": null,
      "metadata": {
        "id": "4cFB4kpm_x2z"
      },
      "outputs": [],
      "source": [
        "from google.colab import drive\n",
        "drive.mount('/content/drive')"
      ]
    },
    {
      "cell_type": "code",
      "execution_count": null,
      "metadata": {
        "id": "hMzMXGzVEpRl"
      },
      "outputs": [],
      "source": [
        "class Autoencoder(nn.Module):\n",
        "    def __init__(self):\n",
        "        super(Autoencoder, self).__init__()\n",
        "        self.encoder = nn.Sequential(\n",
        "            nn.Conv2d(1, 32, 4, 2, 1),\n",
        "            nn.ReLU(),\n",
        "            nn.Conv2d(32, 64, 4, 2, 1),\n",
        "            nn.ReLU(),\n",
        "            nn.Conv2d(64, 128, 4, 2, 1),\n",
        "            nn.ReLU()\n",
        "        )\n",
        "        self.decoder = nn.Sequential(\n",
        "            nn.ConvTranspose2d(128, 64, 4, 2, 1),\n",
        "            nn.ReLU(),\n",
        "            nn.ConvTranspose2d(64, 32, 4, 2, 1),\n",
        "            nn.ReLU(),\n",
        "            nn.ConvTranspose2d(32, 1, 4, 2, 1),\n",
        "            nn.Tanh()\n",
        "        )\n",
        "    def forward(self, x):\n",
        "        encoded = self.encoder(x)\n",
        "        decoded = self.decoder(encoded)\n",
        "        return decoded, encoded"
      ]
    },
    {
      "cell_type": "code",
      "execution_count": null,
      "metadata": {
        "id": "QHMGDuTxG2yG"
      },
      "outputs": [],
      "source": [
        "for epoch in range(10):\n",
        "        for i, data in enumerate(dataloader, 0):\n",
        "          # Update Discriminator\n",
        "          netD.zero_grad()\n",
        "          real_data = data[0].to(device)\n",
        "          batch_size = real_data.size(0)\n",
        "          label = torch.full((batch_size,), 1, device=device)\n",
        "          output = netD(real_data)\n",
        "          errD_real = criterionGAN(output, label)\n",
        "          errD_real.backward()\n",
        "\n",
        "          # Generate noise tensor\n",
        "          noise = torch.randn(batch_size, 100, 1, 1, device=device)\n",
        "          print(\"Noise shape:\", noise.shape)\n",
        "\n",
        "          fake_data = netG(noise)\n",
        "          label.fill_(0)\n",
        "          output = netD(fake_data.detach()).view(-1)\n",
        "          errD_fake = criterionGAN(output, label)\n",
        "          errD_fake.backward()\n",
        "          errD = errD_real + errD_fake\n",
        "          optimizerD.step()\n",
        "\n",
        "          # Update Generator\n",
        "          netG.zero_grad()\n",
        "          label.fill_(1)\n",
        "          output = netD(fake_data).view(-1)\n",
        "          errG = criterionGAN(output, label)\n",
        "          errG.backward()\n",
        "          optimizerG.step()\n",
        "\n",
        "          # Print statistics\n",
        "          print(f\"[{epoch}/{10}][{i}/{len(dataloader)}] \"\n",
        "                f\"Loss_D: {errD.item():.4f} Loss_G: {errG.item():.4f}\")"
      ]
    },
    {
      "cell_type": "code",
      "execution_count": null,
      "metadata": {
        "id": "8k7Ke4LjHHKx"
      },
      "outputs": [],
      "source": []
    }
  ],
  "metadata": {
    "colab": {
      "provenance": []
    },
    "kernelspec": {
      "display_name": "Python 3",
      "name": "python3"
    },
    "language_info": {
      "name": "python"
    }
  },
  "nbformat": 4,
  "nbformat_minor": 0
}